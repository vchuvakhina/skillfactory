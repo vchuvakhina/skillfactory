{
 "cells": [
  {
   "cell_type": "markdown",
   "id": "917a50fc",
   "metadata": {},
   "source": [
    "## Проект \"Авиарейсы без потерь\""
   ]
  },
  {
   "cell_type": "markdown",
   "id": "2dacb6e5",
   "metadata": {},
   "source": [
    "### Задание 4.1\n",
    "1 point possible (graded)\n",
    "База данных содержит список аэропортов практически всех крупных городов России. В большинстве городов есть только один аэропорт. Исключение составляет:"
   ]
  },
  {
   "cell_type": "code",
   "execution_count": null,
   "id": "31f24ade",
   "metadata": {},
   "outputs": [],
   "source": [
    "# answer count(a.airport_name)\n",
    "query = \"\n",
    "select a.city, count(a.airport_name)\n",
    "from dst_project.airports as a\n",
    "group by a.city\n",
    "having count(a.airport_name)>1 \n",
    "\""
   ]
  },
  {
   "cell_type": "markdown",
   "id": "efa15d2e",
   "metadata": {},
   "source": [
    "### Задание 4.2\n",
    "##### Вопрос 1. \n",
    "Таблица рейсов содержит всю информацию о прошлых, текущих и запланированных рейсах. Сколько всего статусов для рейсов определено в таблице?"
   ]
  },
  {
   "cell_type": "code",
   "execution_count": null,
   "id": "2e49c440",
   "metadata": {},
   "outputs": [],
   "source": [
    "# answer 6\n",
    "query = \"\n",
    "select count(distinct f.status)\n",
    "from dst_project.flights as f\n",
    "\""
   ]
  },
  {
   "cell_type": "markdown",
   "id": "48e820e6",
   "metadata": {},
   "source": [
    "##### Вопрос 2. \n",
    "Какое количество самолетов находятся в воздухе на момент среза в базе (статус рейса «самолёт уже вылетел и находится в воздухе»)."
   ]
  },
  {
   "cell_type": "code",
   "execution_count": null,
   "id": "a15fdb9d",
   "metadata": {},
   "outputs": [],
   "source": [
    "# answer 58\n",
    "query = \"\n",
    "select count (distinct f.flight_id)\n",
    "from dst_project.flights as f\n",
    "where f.status = 'Departed'\n",
    "\""
   ]
  },
  {
   "cell_type": "markdown",
   "id": "24f34194",
   "metadata": {},
   "source": [
    "##### Вопрос 3. \n",
    "Места определяют схему салона каждой модели. Сколько мест имеет самолет модели  (Boeing 777-300)?"
   ]
  },
  {
   "cell_type": "code",
   "execution_count": null,
   "id": "fb786d36",
   "metadata": {},
   "outputs": [],
   "source": [
    "# answer 402\n",
    "query = \"\n",
    "select count(s.seat_no) \n",
    "from dst_project.seats as s join dst_project.aircrafts a on s.aircraft_code = a.aircraft_code\n",
    "where a.model = 'Boeing 777-300'\n",
    "\""
   ]
  },
  {
   "cell_type": "markdown",
   "id": "ac81b591",
   "metadata": {},
   "source": [
    "##### Вопрос 4. \n",
    "Сколько состоявшихся (фактических) рейсов было совершено между 1 апреля 2017 года и 1 сентября 2017 года?\n",
    "Здесь и далее состоявшийся рейс означает, что он не отменён, и самолёт прибыл в пункт назначения."
   ]
  },
  {
   "cell_type": "code",
   "execution_count": null,
   "id": "e30caa7f",
   "metadata": {},
   "outputs": [],
   "source": [
    "# answer 74227\n",
    "query = \"\n",
    "select count(f.flight_id) \n",
    "from dst_project.flights as f\n",
    "where  (f.actual_arrival between '2017-04-01'::date  and  '2017-09-01'::date)\n",
    "   and (f.status = 'Arrived') and (f.status != 'Cancelled')\n",
    "\""
   ]
  },
  {
   "cell_type": "markdown",
   "id": "00beb159",
   "metadata": {},
   "source": [
    "### Задание 4.3\n",
    "##### Вопрос 1.  \n",
    "Сколько всего рейсов было отменено по данным базы?"
   ]
  },
  {
   "cell_type": "code",
   "execution_count": null,
   "id": "b98eb7ce",
   "metadata": {},
   "outputs": [],
   "source": [
    "# answer 437\n",
    "query = \"\n",
    "select count(f.flight_id) \n",
    "from dst_project.flights as f\n",
    "where  f.status = 'Cancelled'\n",
    "\""
   ]
  },
  {
   "cell_type": "markdown",
   "id": "0f45bcba",
   "metadata": {},
   "source": [
    "##### Вопрос 2. \n",
    "Сколько самолетов моделей типа Boeing, Sukhoi Superjet, Airbus находится в базе авиаперевозок?"
   ]
  },
  {
   "cell_type": "code",
   "execution_count": null,
   "id": "3128c9c2",
   "metadata": {},
   "outputs": [],
   "source": [
    "# answer 1 + 3 + 3\n",
    "\n",
    "query = \"\n",
    "select count(*)\n",
    "from dst_project.aircrafts as a\n",
    "where a.model like '%Sukhoi Superjet%'\n",
    "\"\n",
    "query = \"\n",
    "select count(*)\n",
    "from dst_project.aircrafts as a\n",
    "where a.model like '%Boeing%'\n",
    "\"\n",
    "query = \"\n",
    "select count(*)\n",
    "from dst_project.aircrafts as a\n",
    "where a.model like '%Airbus%'\n",
    "\""
   ]
  },
  {
   "cell_type": "markdown",
   "id": "1f149ef8",
   "metadata": {},
   "source": [
    "##### Вопрос 3. \n",
    "В какой части (частях) света находится больше аэропортов?"
   ]
  },
  {
   "cell_type": "code",
   "execution_count": null,
   "id": "867c6ebf",
   "metadata": {},
   "outputs": [],
   "source": [
    "# answer Europe, Asia\n",
    "query = \"\n",
    "with count_countinent as (\n",
    "    select 'ASIA', count(a.timezone)\n",
    "    from dst_project.airports as a\n",
    "    where a.timezone like 'Asia%'\n",
    "    union\n",
    "    select 'Europe', count(a.timezone)\n",
    "    from dst_project.airports as a\n",
    "    where a.timezone like 'Europe%'\n",
    "    union\n",
    "    select 'Australia', count(a.timezone)\n",
    "    from dst_project.airports as a\n",
    "    where a.timezone like 'Australia%'\n",
    "    union\n",
    "    select 'Europe, Asia', count(a.timezone)\n",
    "    from dst_project.airports as a\n",
    "    where a.timezone like 'Europe%' OR a.timezone like 'Asia%'\n",
    "\n",
    ")\n",
    "select * from count_countinent\n",
    "order by 2 desc\n",
    "limit 1"
   ]
  },
  {
   "cell_type": "markdown",
   "id": "ead521d5",
   "metadata": {},
   "source": [
    "##### Вопрос 4. \n",
    "У какого рейса была самая большая задержка прибытия за все время сбора данных? Введите id рейса (flight_id)."
   ]
  },
  {
   "cell_type": "code",
   "execution_count": null,
   "id": "27a826d9",
   "metadata": {},
   "outputs": [],
   "source": [
    "# answer 157571\n",
    "query = \"\n",
    "select t_delta.flight_id from (\n",
    "select f.flight_id, f.actual_arrival,f.scheduled_arrival, f.actual_arrival - f.scheduled_arrival as delay_time\n",
    "from dst_project.flights as f\n",
    "WHERE actual_arrival IS NOT NULL\n",
    "order by delay_time desc\n",
    "limit 1\n",
    ") t_delta\n",
    "\""
   ]
  },
  {
   "cell_type": "markdown",
   "id": "47a6e814",
   "metadata": {},
   "source": [
    "### Задание 4.4\n",
    "##### Вопрос 1.\n",
    "Когда был запланирован самый первый вылет, сохраненный в базе данных?"
   ]
  },
  {
   "cell_type": "code",
   "execution_count": null,
   "id": "59796d6a",
   "metadata": {},
   "outputs": [],
   "source": [
    "# август 14, 2016, 11:45 вечера\n",
    "query = \"\n",
    "select f.scheduled_departure\n",
    "from dst_project.flights as f\n",
    "order by 1\n",
    "limit 1\n",
    "\""
   ]
  },
  {
   "cell_type": "markdown",
   "id": "9cc853ec",
   "metadata": {},
   "source": [
    "#### Вопрос 2. \n",
    "Сколько минут составляет запланированное время полета в самом длительном рейсе?"
   ]
  },
  {
   "cell_type": "code",
   "execution_count": null,
   "id": "fa2525fa",
   "metadata": {},
   "outputs": [],
   "source": [
    "# answer - 530 минут\n",
    "query = \"\n",
    "SELECT date_part('hour', f.scheduled_arrival - f.scheduled_departure) * 60 +\n",
    "       date_part('minute', f.scheduled_arrival - f.scheduled_departure) flight_time\n",
    "from dst_project.flights as f\n",
    "order by 1 desc\n",
    "limit 1\n",
    "\""
   ]
  },
  {
   "cell_type": "markdown",
   "id": "8b5ce600",
   "metadata": {},
   "source": [
    "##### Вопрос 3. \n",
    "Между какими аэропортами пролегает самый длительный по времени запланированный рейс?"
   ]
  },
  {
   "cell_type": "code",
   "execution_count": null,
   "id": "da71d7a3",
   "metadata": {},
   "outputs": [],
   "source": [
    "# answer - DME - UUS\n",
    "query = \"\n",
    "SELECT f.departure_airport, f.arrival_airport, f.scheduled_arrival - f.scheduled_departure\n",
    "from dst_project.flights as f\n",
    "where f.scheduled_arrival - f.scheduled_departure in (\n",
    "        SELECT f.scheduled_arrival - f.scheduled_departure max_flight_time\n",
    "        from dst_project.flights as f\n",
    "         order by 1 desc\n",
    "        limit 1)\n",
    "group by f.departure_airport, f.arrival_airport, f.scheduled_arrival - f.scheduled_departure\n",
    "order by 2 desc\n",
    "\""
   ]
  },
  {
   "cell_type": "markdown",
   "id": "3ea612cd",
   "metadata": {},
   "source": [
    "##### Вопрос 4. \n",
    "Сколько составляет средняя дальность полета среди всех самолетов в минутах? Секунды округляются в меньшую сторону (отбрасываются до минут)."
   ]
  },
  {
   "cell_type": "code",
   "execution_count": null,
   "id": "e5a806ca",
   "metadata": {},
   "outputs": [],
   "source": [
    "# answer - 128 min\n",
    "query = \"\n",
    "SELECT date_part('hour', avg(f.actual_arrival - f.actual_departure)) * 60 +\n",
    "         date_part('minute', avg(f.actual_arrival - f.actual_departure)) avg_atual_time_distance\n",
    "from dst_project.flights as f\n",
    "\""
   ]
  },
  {
   "cell_type": "markdown",
   "id": "55d83f9f",
   "metadata": {},
   "source": [
    "### Задание 4.5\n",
    "##### Вопрос 1.\n",
    "Мест какого класса у SU9 больше всего?"
   ]
  },
  {
   "cell_type": "code",
   "execution_count": null,
   "id": "c8330989",
   "metadata": {},
   "outputs": [],
   "source": [
    "# answer - Economy\n",
    "query = \"\n",
    "SELECT s.fare_conditions, count(s.fare_conditions)\n",
    "from dst_project.seats as s\n",
    "where s.aircraft_code = 'SU9' \n",
    "group by s.fare_conditions\n",
    "order by 2 desc\n",
    "limit 1\n",
    "\""
   ]
  },
  {
   "cell_type": "markdown",
   "id": "975859fa",
   "metadata": {},
   "source": [
    "##### Вопрос 2. \n",
    "Какую самую минимальную стоимость составило бронирование за всю историю?"
   ]
  },
  {
   "cell_type": "code",
   "execution_count": null,
   "id": "3de91fbb",
   "metadata": {},
   "outputs": [],
   "source": [
    "# answer - 1308700\n",
    "query = \"\n",
    "SELECT max(b.total_amount)\n",
    "from dst_project.bookings b\n",
    "\""
   ]
  },
  {
   "cell_type": "markdown",
   "id": "bd1a226e",
   "metadata": {},
   "source": [
    "##### Вопрос 3. \n",
    "Какой номер места был у пассажира с id = 4313 788533?"
   ]
  },
  {
   "cell_type": "code",
   "execution_count": null,
   "id": "ea5c8d9e",
   "metadata": {},
   "outputs": [],
   "source": [
    "# answer - 2A\n",
    "query = \"\n",
    "SELECT bp.seat_no\n",
    "from dst_project.tickets t\n",
    "    join dst_project.boarding_passes bp\n",
    "    on t.ticket_no = bp.ticket_no\n",
    "where t.passenger_id = '4313 788533'"
   ]
  },
  {
   "cell_type": "markdown",
   "id": "0384106f",
   "metadata": {},
   "source": [
    "### Задание 5.1\n",
    "#####  Вопрос 1. \n",
    "Анапа — курортный город на юге России. Сколько рейсов прибыло в Анапу за 2017 год"
   ]
  },
  {
   "cell_type": "code",
   "execution_count": null,
   "id": "76b54a10",
   "metadata": {},
   "outputs": [],
   "source": [
    "# answer - 486\n",
    "query = \"\n",
    "SELECT count(f.flight_id)\n",
    "from dst_project.flights f \n",
    "    join dst_project.airports a\n",
    "    on f.arrival_airport = a.airport_code\n",
    "where a.city = 'Anapa' and f.status = 'Arrived' and date_part('year', f.actual_arrival) = '2017'\n",
    "\""
   ]
  },
  {
   "cell_type": "markdown",
   "id": "8c1b9e69",
   "metadata": {},
   "source": [
    "##### Вопрос 2. \n",
    "Сколько рейсов из Анапы вылетело зимой 2017 года?"
   ]
  },
  {
   "cell_type": "code",
   "execution_count": null,
   "id": "8d59f1ca",
   "metadata": {},
   "outputs": [],
   "source": [
    "# answer - 127 \n",
    "query = \"\n",
    "SELECT count(f.flight_id)\n",
    "from dst_project.flights f \n",
    "WHERE (f.departure_airport = 'AAQ')\n",
    "    AND (date_part('year', f.actual_departure) = 2017)\n",
    "    AND (date_part('month', f.actual_departure) IN (12, 1, 2))\n",
    "\""
   ]
  },
  {
   "cell_type": "markdown",
   "id": "f062d530",
   "metadata": {},
   "source": [
    "##### Вопрос 3. \n",
    "Посчитайте количество отмененных рейсов из Анапы за все время."
   ]
  },
  {
   "cell_type": "code",
   "execution_count": null,
   "id": "e97647c3",
   "metadata": {},
   "outputs": [],
   "source": [
    "# answer - 1\n",
    "query = \"\n",
    "SELECT count(f.flight_id)\n",
    "from dst_project.flights f \n",
    "WHERE (f.departure_airport = 'AAQ')\n",
    "  AND (f.status = 'Cancelled')\n",
    "\""
   ]
  },
  {
   "cell_type": "markdown",
   "id": "d2389f30",
   "metadata": {},
   "source": [
    "##### Вопрос 4. \n",
    "Сколько рейсов из Анапы не летают в Москву?"
   ]
  },
  {
   "cell_type": "code",
   "execution_count": null,
   "id": "c187213f",
   "metadata": {},
   "outputs": [],
   "source": [
    "# answer - 453\n",
    "query = \"\n",
    "SELECT count(f.flight_no)\n",
    "from dst_project.flights f \n",
    "    join dst_project.airports a on f.arrival_airport = a.airport_code\n",
    "WHERE (f.departure_airport = 'AAQ')\n",
    "  AND (a.city != 'Moscow')\n",
    "\"    "
   ]
  },
  {
   "cell_type": "markdown",
   "id": "9cd678f9",
   "metadata": {},
   "source": [
    "##### Вопрос 5. \n",
    "Какая модель самолета летящего на рейсах из Анапы имеет больше всего мест?"
   ]
  },
  {
   "cell_type": "code",
   "execution_count": null,
   "id": "e944d18f",
   "metadata": {},
   "outputs": [],
   "source": [
    "# answer - 737\n",
    "query = \"\n",
    "SELECT f.aircraft_code, count(distinct s.seat_no)\n",
    "from dst_project.flights f \n",
    "    join dst_project.seats s on f.aircraft_code = s.aircraft_code\n",
    "WHERE f.departure_airport = 'AAQ'\n",
    "group by f.aircraft_code"
   ]
  },
  {
   "cell_type": "markdown",
   "id": "1b36b906",
   "metadata": {},
   "source": [
    "## Финальный проект"
   ]
  },
  {
   "cell_type": "code",
   "execution_count": null,
   "id": "4b14e269",
   "metadata": {},
   "outputs": [],
   "source": [
    "-- выборка по количеству выкупенных билетов на рейсы\n",
    "SELECT \n",
    "    distinct f.flight_id, f.status,\n",
    "    count(tf.ticket_no)\n",
    "FROM dst_project.flights f\n",
    "    left join dst_project.ticket_flights tf on f.flight_id = tf.flight_id\n",
    "WHERE f.departure_airport = 'AAQ'\n",
    "  AND (date_trunc('month', f.scheduled_departure) in ('2017-01-01','2017-02-01', '2017-12-01'))\n",
    "  AND f.status not in ('Cancelled')\n",
    "group by f.flight_id, f.status\n",
    "order by 3"
   ]
  },
  {
   "cell_type": "code",
   "execution_count": null,
   "id": "01f29bb7",
   "metadata": {},
   "outputs": [],
   "source": [
    "# общий запрос\n",
    "query = \"\n",
    "with \n",
    "tf_anapa as -- выбор стоимости только по рейсам Анапа-зима ts\n",
    "  (\n",
    "  select tf.flight_id, tf.fare_conditions, sum(tf.amount) fare_conditions_amount, count(tf.ticket_no) fare_conditions_tickets\n",
    "  from dst_project.ticket_flights tf\n",
    "  where tf.flight_id in \n",
    "    (\n",
    "    SELECT distinct(flight_id)\n",
    "    FROM dst_project.flights f\n",
    "    WHERE f.departure_airport = 'AAQ'\n",
    "  AND (date_trunc('month', f.scheduled_departure) in ('2017-01-01','2017-02-01', '2017-12-01'))\n",
    "  AND f.status not in ('Cancelled')\n",
    "    )\n",
    "  group by tf.flight_id, tf.fare_conditions\n",
    "  ),\n",
    "  \n",
    "sn as \n",
    "    (\n",
    "    SELECT\n",
    "    tf_anapa.flight_id,\n",
    "    tf_anapa.fare_conditions,\n",
    "    count(s.seat_no) total_seats_no\n",
    "    FROM tf_anapa \n",
    "        left join dst_project.flights f on tf_anapa.flight_id = f.flight_id \n",
    "        left join dst_project.seats s on f.aircraft_code = s.aircraft_code and tf_anapa.fare_conditions = s.fare_conditions\n",
    "\n",
    "    group by tf_anapa.flight_id, f.aircraft_code, tf_anapa.fare_conditions\n",
    "    ), \n",
    "    \n",
    "tf_anapa_business as\n",
    "    (\n",
    "    Select f.*, \n",
    "        tf_anapa.fare_conditions_amount business_conditions_amount, \n",
    "        tf_anapa.fare_conditions_tickets business_conditions_tickets,\n",
    "        sn.total_seats_no business_total_seats_no\n",
    "    from dst_project.flights f\n",
    "         left join tf_anapa on f.flight_id = tf_anapa.flight_id\n",
    "        left join sn on tf_anapa.flight_id = sn.flight_id and tf_anapa.fare_conditions = sn.fare_conditions\n",
    "    where tf_anapa.fare_conditions = 'Business'\n",
    "    ), \n",
    "    \n",
    "tf_anapa_economy as\n",
    "    (\n",
    "    Select f.*, \n",
    "        tf_anapa.fare_conditions_amount economy_conditions_amount, \n",
    "        tf_anapa.fare_conditions_tickets economy_conditions_tickets,\n",
    "        sn.total_seats_no economy_total_seats_no\n",
    "    from dst_project.flights f\n",
    "         left join tf_anapa on f.flight_id = tf_anapa.flight_id\n",
    "        left join sn on tf_anapa.flight_id = sn.flight_id and tf_anapa.fare_conditions = sn.fare_conditions\n",
    "    where tf_anapa.fare_conditions = 'Economy'\n",
    "    ), \n",
    "    \n",
    "tf_anapa_null as\n",
    "    (\n",
    "    Select f.*, \n",
    "        tf_anapa.fare_conditions_amount null_conditions_amount, \n",
    "        tf_anapa.fare_conditions_tickets null_conditions_tickets,\n",
    "        sn.total_seats_no null_total_seats_no\n",
    "    from dst_project.flights f\n",
    "         left join tf_anapa on f.flight_id = tf_anapa.flight_id\n",
    "        left join sn on tf_anapa.flight_id = sn.flight_id and tf_anapa.fare_conditions = sn.fare_conditions\n",
    "    where tf_anapa.fare_conditions is null\n",
    "    )   \n",
    "    \n",
    "SELECT f.*, \n",
    "    tf_anapa_business.business_conditions_amount, \n",
    "    tf_anapa_business.business_conditions_tickets, \n",
    "    tf_anapa_business.business_total_seats_no, \n",
    "    tf_anapa_economy.economy_conditions_amount, \n",
    "    tf_anapa_economy.economy_conditions_tickets,\n",
    "    tf_anapa_economy.economy_total_seats_no,\n",
    "    tf_anapa_null.null_conditions_amount, \n",
    "    tf_anapa_null.null_conditions_tickets,\n",
    "    tf_anapa_null.null_total_seats_no,\n",
    "    a.model,\n",
    "    aa.airport_name  as arrival_airport_name, \n",
    "    aa.longitude as arrival_airport_longitude, \n",
    "    aa.latitude as arrival_airport_latitude, \n",
    "    ad.longitude as departure_airport_longitude, \n",
    "    ad.latitude as departure_airport_latitude\n",
    "FROM dst_project.flights f\n",
    "    left join tf_anapa_business on f.flight_id = tf_anapa_business.flight_id\n",
    "    left join tf_anapa_economy on f.flight_id = tf_anapa_economy.flight_id\n",
    "    left join tf_anapa_null on f.flight_id = tf_anapa_null.flight_id\n",
    "    left join dst_project.aircrafts a on f.aircraft_code = a.aircraft_code\n",
    "    left join dst_project.airports aa on f.arrival_airport = aa.airport_code\n",
    "    left join dst_project.airports ad on f.departure_airport = ad.airport_code\n",
    "# --left join sn on tf_anapa.flight_id = sn.flight_id and tf_anapa.fare_conditions = sn.fare_conditions\n",
    "WHERE f.departure_airport = 'AAQ'\n",
    "    AND (date_trunc('month', f.scheduled_departure) in ('2017-01-01','2017-02-01', '2017-12-01'))\n",
    "    AND f.status not in ('Cancelled')\n",
    "order by 1; \n",
    "\""
   ]
  },
  {
   "cell_type": "code",
   "execution_count": null,
   "id": "d7644836",
   "metadata": {},
   "outputs": [],
   "source": []
  },
  {
   "cell_type": "code",
   "execution_count": null,
   "id": "8f6c6f41",
   "metadata": {},
   "outputs": [],
   "source": [
    "# промежуточный запрос. Решила не использовать, так как не удобный формат вывода данных для анализа\n",
    "query = \"\n",
    "\n",
    "with tf as -- выбор стоимости только по рейсам Анапа-зима ts\n",
    "  (\n",
    "  select tf.flight_id, tf.fare_conditions, sum(tf.amount) fare_conditions_amount, count(tf.ticket_no) fare_conditions_tickets\n",
    "  from dst_project.ticket_flights tf\n",
    "  where tf.flight_id in \n",
    "    (\n",
    "    SELECT distinct(flight_id)\n",
    "    FROM dst_project.flights f\n",
    "    WHERE f.departure_airport = 'AAQ'\n",
    "  AND (date_trunc('month', f.scheduled_departure) in ('2017-01-01','2017-02-01', '2017-12-01'))\n",
    "  AND f.status not in ('Cancelled')\n",
    "    )\n",
    "  group by tf.flight_id, tf.fare_conditions\n",
    "  ),\n",
    "sn as\n",
    "    (\n",
    "    SELECT\n",
    "    tf.flight_id,\n",
    "    tf.fare_conditions,\n",
    "    count(s.seat_no) total_seats_no\n",
    "\n",
    "     FROM tf\n",
    "        left join dst_project.flights f on tf.flight_id = f.flight_id \n",
    "        left join dst_project.seats s on f.aircraft_code = s.aircraft_code and tf.fare_conditions = s.fare_conditions\n",
    "\n",
    "    group by tf.flight_id, f.aircraft_code, tf.fare_conditions\n",
    "    )\n",
    "    SELECT f.*, \n",
    "    tf.fare_conditions, \n",
    "    tf.fare_conditions_amount, \n",
    "    tf.fare_conditions_tickets,\n",
    "    sn.total_seats_no,\n",
    "    a.model,\n",
    "    aa.airport_name  as arrival_airport_name, \n",
    "    aa.longitude as arrival_airport_longitude, \n",
    "    aa.latitude as arrival_airport_latitude, \n",
    "    ad.longitude as departure_airport_longitude, \n",
    "    ad.latitude as departure_airport_latitude\n",
    "FROM dst_project.flights f\n",
    " left join tf on f.flight_id = tf.flight_id\n",
    " left join dst_project.aircrafts a on f.aircraft_code = a.aircraft_code\n",
    " left join dst_project.airports aa on f.arrival_airport = aa.airport_code\n",
    " left join dst_project.airports ad on f.departure_airport = ad.airport_code\n",
    " left join sn on tf.flight_id = sn.flight_id and tf.fare_conditions = sn.fare_conditions\n",
    "WHERE f.departure_airport = 'AAQ'\n",
    "  AND (date_trunc('month', f.scheduled_departure) in ('2017-01-01','2017-02-01', '2017-12-01'))\n",
    "  AND f.status not in ('Cancelled')\n",
    "order by 1;  \n",
    "\""
   ]
  },
  {
   "cell_type": "code",
   "execution_count": null,
   "id": "5a3ada56",
   "metadata": {},
   "outputs": [],
   "source": []
  }
 ],
 "metadata": {
  "kernelspec": {
   "display_name": "Python 3",
   "language": "python",
   "name": "python3"
  },
  "language_info": {
   "codemirror_mode": {
    "name": "ipython",
    "version": 3
   },
   "file_extension": ".py",
   "mimetype": "text/x-python",
   "name": "python",
   "nbconvert_exporter": "python",
   "pygments_lexer": "ipython3",
   "version": "3.8.8"
  }
 },
 "nbformat": 4,
 "nbformat_minor": 5
}
